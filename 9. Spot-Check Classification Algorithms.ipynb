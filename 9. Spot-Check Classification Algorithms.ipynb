{
  "nbformat": 4,
  "nbformat_minor": 0,
  "metadata": {
    "colab": {
      "provenance": [],
      "authorship_tag": "ABX9TyM5a3E34wMvQeKCYmjmBia8",
      "include_colab_link": true
    },
    "kernelspec": {
      "name": "python3",
      "display_name": "Python 3"
    },
    "language_info": {
      "name": "python"
    }
  },
  "cells": [
    {
      "cell_type": "markdown",
      "metadata": {
        "id": "view-in-github",
        "colab_type": "text"
      },
      "source": [
        "<a href=\"https://colab.research.google.com/github/Mahdi-Saadati/Machine-Learning-Mastery-with-Python/blob/main/9.%20Spot-Check%20Classification%20Algorithms.ipynb\" target=\"_parent\"><img src=\"https://colab.research.google.com/assets/colab-badge.svg\" alt=\"Open In Colab\"/></a>"
      ]
    },
    {
      "cell_type": "markdown",
      "source": [
        "# **Spot-Check Classification Algorithms**\n",
        "\n",
        "Spot-checking is a way of discovering which algorithms perform well on your machine learning problem. You cannot know which algorithms are best suited to your problem beforehand. You must trial a number of methods and focus attention on those that prove themselves the most promising. In this chapter you will discover six machine learning algorithms that you can use when spot-checking your classification problem in Python with scikit-learn. After completing this lesson you will know:\n",
        "\n",
        "1. How to spot-check machine learning algorithms on a classification problem.\n",
        "2. How to spot-check two linear classification algorithms.\n",
        "3. How to spot-check four nonlinear classification algorithms.\n",
        "\n",
        "**9.1 Algorithm Spot-Checking**\n",
        "\n",
        "You cannot know which algorithm will work best on your dataset beforehand. You must use trial and error to discover a shortlist of algorithms that do well on your problem that you can then double down on and tune further. I call this process spot-checking.\n",
        "The question is not: What algorithm should I use on my dataset? Instead it is: What algorithms should I spot-check on my dataset? You can guess at what algorithms might do well on your dataset, and this can be a good starting point. I recommend trying a mixture of algorithms and see what is good at picking out the structure in your data.\n",
        "\n",
        "**9.2 Algorithms Overview**\n",
        "\n",
        "We are going to take a look at six classification algorithms that you can spot-check on your dataset. Starting with two linear machine learning algorithms:\n",
        "\n",
        "•\tLogistic Regression.\n",
        "\n",
        "•\tLinear Discriminant Analysis (LDA).\n",
        "\n",
        "Then looking at four nonlinear machine learning algorithms:\n",
        "\n",
        "•\tk-Nearest Neighbors (KNN).\n",
        "\n",
        "•\tNaive Bayes.\n",
        "\n",
        "•\tClassification and Regression Trees.\n",
        "\n",
        "•\tSupport Vector Machines (SVM).\n",
        "\n",
        "Each recipe is demonstrated on the Pima Indians onset of Diabetes dataset. A test harness using 10-fold cross-validation is used to demonstrate how to spot-check each machine learning algorithm and mean accuracy measures are used to indicate algorithm performance. The recipes assume that you know about each machine learning algorithm and how to use them. We will not go into the API or parameterization of each algorithm.\n",
        "\n",
        "\n",
        "**9.3 Linear Machine Learning Algorithms**\n",
        "\n",
        "This section demonstrates minimal recipes for how to use two linear machine learning algorithms:\n",
        "logistic regression and linear discriminant analysis.\n",
        "\n",
        "**9.3.1 Logistic Regression**\n",
        "\n",
        "Logistic regression assumes a Gaussian distribution for the numeric input variables and can model binary classification problems. You can construct a logistic regression model using the LogisticRegression class.\n",
        "\n"
      ],
      "metadata": {
        "id": "hZrWzh0BrukD"
      }
    },
    {
      "cell_type": "code",
      "source": [
        "# Logistic Regression Classification\n",
        "from pandas import read_csv\n",
        "from sklearn.model_selection import KFold\n",
        "from sklearn.model_selection import cross_val_score\n",
        "from sklearn.linear_model import LogisticRegression\n",
        "filename = 'pima-indians-diabetes.data.csv'\n",
        "names = ['preg', 'plas', 'pres', 'skin', 'test', 'mass', 'pedi', 'age', 'class']\n",
        "dataframe = read_csv(filename, names=names)\n",
        "array = dataframe.values\n",
        "X = array[:,0:8]\n",
        "Y = array[:,8]\n",
        "num_folds = 10\n",
        "kfold = KFold(n_splits=10, random_state=7)\n",
        "model = LogisticRegression()\n",
        "results = cross_val_score(model, X, Y, cv=kfold)\n",
        "print(results.mean())"
      ],
      "metadata": {
        "id": "MG5C9fWVQyuV"
      },
      "execution_count": null,
      "outputs": []
    },
    {
      "cell_type": "code",
      "source": [
        "Running the example prints the mean estimated accuracy."
      ],
      "metadata": {
        "id": "K0vzp9oOQ1SE"
      },
      "execution_count": null,
      "outputs": []
    },
    {
      "cell_type": "markdown",
      "source": [
        "`0.76951469583`"
      ],
      "metadata": {
        "id": "-rcSSu-EQ3g8"
      }
    },
    {
      "cell_type": "markdown",
      "source": [
        "**9.3.2 Linear Discriminant Analysis**\n",
        "\n",
        "Linear Discriminant Analysis or LDA is a statistical technique for binary and multiclass classification. It too assumes a Gaussian distribution for the numerical input variables. You can construct an LDA model using the LinearDiscriminantAnalysis class.\n"
      ],
      "metadata": {
        "id": "EhOxXlZ2Q6kE"
      }
    },
    {
      "cell_type": "markdown",
      "source": [
        "# LDA Classification\n",
        "from pandas import read_csv\n",
        "from sklearn.model_selection import KFold\n",
        "from sklearn.model_selection import cross_val_score\n",
        "from sklearn.discriminant_analysis import LinearDiscriminantAnalysis\n",
        "filename = 'pima-indians-diabetes.data.csv'\n",
        "names = ['preg', 'plas', 'pres', 'skin', 'test', 'mass', 'pedi', 'age', 'class']\n",
        "dataframe = read_csv(filename, names=names)\n",
        "array = dataframe.values\n",
        "X = array[:,0:8]\n",
        "Y = array[:,8]\n",
        "num_folds = 10\n",
        "kfold = KFold(n_splits=10, random_state=7)\n",
        "model = LinearDiscriminantAnalysis()\n",
        "results = cross_val_score(model, X, Y, cv=kfold)\n",
        "print(results.mean())"
      ],
      "metadata": {
        "id": "0-0dbYyQQ-NU"
      }
    },
    {
      "cell_type": "markdown",
      "source": [
        "Running the example prints the mean estimated accuracy."
      ],
      "metadata": {
        "id": "c4nPPUOqRAz7"
      }
    },
    {
      "cell_type": "markdown",
      "source": [
        "`0.773462064252`"
      ],
      "metadata": {
        "id": "OrPihTYqRBA7"
      }
    },
    {
      "cell_type": "markdown",
      "source": [
        "**9.4 Nonlinear Machine Learning Algorithms**\n",
        "\n",
        "This section demonstrates minimal recipes for how to use 4 nonlinear machine learning algorithms.\n",
        "\n",
        "**9.4.1 k-Nearest Neighbors**\n",
        "\n",
        "The k-Nearest Neighbors algorithm (or KNN) uses a distance metric to find the k most similar instances in the training data for a new instance and takes the mean outcome of the neighbors as the prediction. You can construct a KNN model using the KNeighborsClassifier class.\n",
        "\n"
      ],
      "metadata": {
        "id": "As_jOXwnRBG7"
      }
    },
    {
      "cell_type": "code",
      "source": [
        "# KNN Classification\n",
        "from pandas import read_csv\n",
        "from sklearn.model_selection import KFold\n",
        "from sklearn.model_selection import cross_val_score\n",
        "from sklearn.neighbors import KNeighborsClassifier\n",
        "filename = 'pima-indians-diabetes.data.csv'\n",
        "names = ['preg', 'plas', 'pres', 'skin', 'test', 'mass', 'pedi', 'age', 'class']\n",
        "dataframe = read_csv(filename, names=names)\n",
        "array = dataframe.values\n",
        "X = array[:,0:8]\n",
        "Y = array[:,8]\n",
        "num_folds = 10\n",
        "kfold = KFold(n_splits=10, random_state=7)\n",
        "model = KNeighborsClassifier()\n",
        "results = cross_val_score(model, X, Y, cv=kfold)\n",
        "print(results.mean())"
      ],
      "metadata": {
        "id": "spydeXaBRPOE"
      },
      "execution_count": null,
      "outputs": []
    },
    {
      "cell_type": "markdown",
      "source": [
        "Running the example prints the mean estimated accuracy."
      ],
      "metadata": {
        "id": "fWTT79rBRBKc"
      }
    },
    {
      "cell_type": "markdown",
      "source": [
        "`0.726555023923`"
      ],
      "metadata": {
        "id": "TdiOIbX8RBN0"
      }
    },
    {
      "cell_type": "markdown",
      "source": [
        "**9.4.2 Naive Bayes**\n",
        "\n",
        "Naive Bayes calculates the probability of each class and the conditional probability of each class given each input value. These probabilities are estimated for new data and multiplied together, assuming that they are all independent (a simple or naive assumption). When working with real-valued data, a Gaussian distribution is assumed to easily estimate the probabilities for input variables using the Gaussian Probability Density Function. You can construct a Naïve Bayes model using the GaussianNB class.\n"
      ],
      "metadata": {
        "id": "qlc4jhoRRBTL"
      }
    },
    {
      "cell_type": "code",
      "source": [
        "# Gaussian Naive Bayes Classification\n",
        "from pandas import read_csv\n",
        "from sklearn.model_selection import KFold\n",
        "from sklearn.model_selection import cross_val_score\n",
        "from sklearn.naive_bayes import GaussianNB\n",
        "filename = 'pima-indians-diabetes.data.csv'\n",
        "names = ['preg', 'plas', 'pres', 'skin', 'test', 'mass', 'pedi', 'age', 'class']\n",
        "dataframe = read_csv(filename, names=names)\n",
        "array = dataframe.values\n",
        "X = array[:,0:8]\n",
        "Y = array[:,8]\n",
        "kfold = KFold(n_splits=10, random_state=7)\n",
        "model = GaussianNB()\n",
        "results = cross_val_score(model, X, Y, cv=kfold)\n",
        "print(results.mean())"
      ],
      "metadata": {
        "id": "q-CZG6bJRYDr"
      },
      "execution_count": null,
      "outputs": []
    },
    {
      "cell_type": "markdown",
      "source": [
        "Running the example prints the mean estimated accuracy."
      ],
      "metadata": {
        "id": "FnRvl_6aRBVX"
      }
    },
    {
      "cell_type": "markdown",
      "source": [
        "`0.75517771702`"
      ],
      "metadata": {
        "id": "UE3f40TBRaWr"
      }
    },
    {
      "cell_type": "markdown",
      "source": [
        "**9.4.3 Classification and Regression Trees**\n",
        "\n",
        "Classification and Regression Trees (CART or just decision trees) construct a binary tree from the training data. Split points are chosen greedily by evaluating each attribute and each value of each attribute in the training data in order to minimize a cost function (like the Gini index). You can construct a CART model using the DecisionTreeClassifier class.\n"
      ],
      "metadata": {
        "id": "74FQdaLxRcY0"
      }
    },
    {
      "cell_type": "code",
      "source": [
        "# CART Classification\n",
        "from pandas import read_csv\n",
        "from sklearn.model_selection import KFold\n",
        "from sklearn.model_selection import cross_val_score\n",
        "from sklearn.tree import DecisionTreeClassifier\n",
        "filename = 'pima-indians-diabetes.data.csv'\n",
        "names = ['preg', 'plas', 'pres', 'skin', 'test', 'mass', 'pedi', 'age', 'class']\n",
        "dataframe = read_csv(filename, names=names)\n",
        "array = dataframe.values\n",
        "X = array[:,0:8]\n",
        "Y = array[:,8]\n",
        "kfold = KFold(n_splits=10, random_state=7)\n",
        "model = DecisionTreeClassifier()\n",
        "results = cross_val_score(model, X, Y, cv=kfold)\n",
        "print(results.mean())"
      ],
      "metadata": {
        "id": "_p5w2VEeRjbs"
      },
      "execution_count": null,
      "outputs": []
    },
    {
      "cell_type": "markdown",
      "source": [
        "Running the example prints the mean estimated accuracy."
      ],
      "metadata": {
        "id": "LQmXXuvrRkOb"
      }
    },
    {
      "cell_type": "markdown",
      "source": [
        "`0.692600820232`"
      ],
      "metadata": {
        "id": "psRxHiM1RnFl"
      }
    },
    {
      "cell_type": "markdown",
      "source": [
        "**9.4.4 Support Vector Machines**\n",
        "\n",
        "Support Vector Machines (or SVM) seek a line that best separates two classes. Those data instances that are closest to the line that best separates the classes are called support vectors and influence where the line is placed. SVM has been extended to support multiple classes. Of particular importance is the use of different kernel functions via the kernel parameter. A powerful Radial Basis Function is used by default. You can construct an SVM model using the SVC class.\n"
      ],
      "metadata": {
        "id": "mtO31hy6Rpc1"
      }
    },
    {
      "cell_type": "code",
      "source": [
        "# SVM Classification\n",
        "from pandas import read_csv\n",
        "from sklearn.model_selection import KFold\n",
        "from sklearn.model_selection import cross_val_score\n",
        "from sklearn.svm import SVC\n",
        "filename = 'pima-indians-diabetes.data.csv'\n",
        "names = ['preg', 'plas', 'pres', 'skin', 'test', 'mass', 'pedi', 'age', 'class']\n",
        "dataframe = read_csv(filename, names=names)\n",
        "array = dataframe.values\n",
        "X = array[:,0:8]\n",
        "Y = array[:,8]\n",
        "kfold = KFold(n_splits=10, random_state=7)\n",
        "model = SVC()\n",
        "results = cross_val_score(model, X, Y, cv=kfold)\n",
        "print(results.mean())"
      ],
      "metadata": {
        "id": "cycG75oiRt80"
      },
      "execution_count": null,
      "outputs": []
    },
    {
      "cell_type": "markdown",
      "source": [
        "Running the example prints the mean estimated accuracy."
      ],
      "metadata": {
        "id": "kPt2azb0Ru1j"
      }
    },
    {
      "cell_type": "markdown",
      "source": [
        "`0.651025290499`"
      ],
      "metadata": {
        "id": "OHUw3-zbRweM"
      }
    }
  ]
}