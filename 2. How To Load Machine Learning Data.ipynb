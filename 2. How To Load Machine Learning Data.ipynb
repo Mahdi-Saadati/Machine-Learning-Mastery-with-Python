{
  "nbformat": 4,
  "nbformat_minor": 0,
  "metadata": {
    "colab": {
      "provenance": [],
      "authorship_tag": "ABX9TyPWAbPQwneW6ISqVmnav/dz",
      "include_colab_link": true
    },
    "kernelspec": {
      "name": "python3",
      "display_name": "Python 3"
    },
    "language_info": {
      "name": "python"
    }
  },
  "cells": [
    {
      "cell_type": "markdown",
      "metadata": {
        "id": "view-in-github",
        "colab_type": "text"
      },
      "source": [
        "<a href=\"https://colab.research.google.com/github/Mahdi-Saadati/Machine-Learning-Mastery-with-Python/blob/main/2.%20How%20To%20Load%20Machine%20Learning%20Data.ipynb\" target=\"_parent\"><img src=\"https://colab.research.google.com/assets/colab-badge.svg\" alt=\"Open In Colab\"/></a>"
      ]
    },
    {
      "cell_type": "markdown",
      "source": [
        "# **How To Load Machine Learning Data**\n",
        "\n",
        "\n",
        "You must be able to load your data before you can start your machine learning project. The most common format for machine learning data is CSV. There are a number of ways to load a CSV file in Python:\n",
        "\n",
        "*   Load CSV Files with Pandas.\n",
        "\n",
        "\n",
        "**2.1 Load CSV Files with Pandas**\n",
        "\n",
        "You can load your CSV data using Pandas and the pandas.read_csv() function. This function is very flexible and is perhaps my recommended approach for loading your machine learning data. The function returns a pandas.DataFrame that you can immediately start summarizing and plotting. The example below assumes that the pima-indians-diabetes.data.csv file is in the current working directory.\n"
      ],
      "metadata": {
        "id": "hZrWzh0BrukD"
      }
    },
    {
      "cell_type": "code",
      "source": [
        "# Load CSV using Pandas from URL\n",
        "from pandas import read_csv\n",
        "url = 'https://www.w3schools.com/python/pandas/data.csv'\n",
        "names = ['Duration', 'pulse', 'Maxpulse', 'Calories']\n",
        "data = read_csv(url, names=names)\n",
        "print(data.shape)"
      ],
      "metadata": {
        "id": "cpfQRbVGMvWY"
      },
      "execution_count": null,
      "outputs": []
    },
    {
      "cell_type": "markdown",
      "source": [
        "Again, running the example downloads the CSV file, parses it and displays the shape of the loaded DataFrame.\n",
        "\n",
        "`(768, 9)`\n"
      ],
      "metadata": {
        "id": "z4kxCl26NVJn"
      }
    }
  ]
}